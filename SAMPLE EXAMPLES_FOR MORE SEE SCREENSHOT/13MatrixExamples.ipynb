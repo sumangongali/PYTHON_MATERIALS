{
 "cells": [
  {
   "cell_type": "code",
   "execution_count": 1,
   "metadata": {},
   "outputs": [],
   "source": [
    "'''\n",
    "Created on Mar 22, 2018\n",
    "\n",
    "@author: BVR\n",
    "'''\n",
    "\n",
    "\n",
    "# a is 2-D matrix with integers\n",
    "a = [['Roy',80,75,85,90,95],\n",
    "     ['John',75,80,75,85,100],\n",
    "     ['Dave',80,80,80,90,95]]\n",
    "\n",
    "#b is a nested list but not a matrix\n",
    "b= [['Roy',80,75,85,90,95],\n",
    "    ['John',75,80,75],\n",
    "    ['Dave',80,80,80,90,95]]\n"
   ]
  },
  {
   "cell_type": "code",
   "execution_count": 2,
   "metadata": {},
   "outputs": [
    {
     "name": "stdout",
     "output_type": "stream",
     "text": [
      "[[0, 0, 0, 0], [0, 0, 0, 0], [0, 0, 0, 0]]\n"
     ]
    }
   ],
   "source": [
    "\n",
    "n = 3\n",
    "m = 4\n",
    "a = [0] * n\n",
    "for i in range(n):\n",
    "    a[i] = [0] * m\n",
    "print(a)\n"
   ]
  },
  {
   "cell_type": "code",
   "execution_count": 3,
   "metadata": {},
   "outputs": [
    {
     "name": "stdout",
     "output_type": "stream",
     "text": [
      "[[ 0  1  2  3]\n",
      " [ 4  5  6  7]\n",
      " [ 8  9 10 11]\n",
      " [12 13 14 15]]\n"
     ]
    }
   ],
   "source": [
    "\n",
    "from numpy import * \n",
    "\n",
    "x = range(16)\n",
    "\n",
    "x = reshape(x,(4,4)) \n",
    "\n",
    "print(x) \n",
    "\n"
   ]
  },
  {
   "cell_type": "code",
   "execution_count": 4,
   "metadata": {},
   "outputs": [
    {
     "name": "stdout",
     "output_type": "stream",
     "text": [
      "['Roy', 80, 75, 85, 90, 95]\n",
      "80\n",
      "80\n"
     ]
    }
   ],
   "source": [
    "\n",
    "# a is 2-D matrix with integers\n",
    "a = [['Roy',80,75,85,90,95],\n",
    "     ['John',75,80,75,85,100],\n",
    "     ['Dave',80,80,80,90,95]]\n",
    "\n",
    "print(a[0])\n",
    "\n",
    "print(a[0][1])\n",
    "\n",
    "print(a[1][2])"
   ]
  },
  {
   "cell_type": "code",
   "execution_count": 5,
   "metadata": {},
   "outputs": [
    {
     "name": "stdout",
     "output_type": "stream",
     "text": [
      "['Dave', 80, 80, 80, 90, 95]\n",
      "90\n",
      "75\n"
     ]
    }
   ],
   "source": [
    "\n",
    "#negative matrix\n",
    "\n",
    "\n",
    "a = [['Roy',80,75,85,90,95],\n",
    "     ['John',75,80,75,85,100],\n",
    "     ['Dave',80,80,80,90,95]]\n",
    "    \n",
    "print(a[-1]) \n",
    "    \n",
    "print(a[-1][-2]) \n",
    "\n",
    "print(a[-2][-3]) \n"
   ]
  },
  {
   "cell_type": "code",
   "execution_count": 6,
   "metadata": {},
   "outputs": [
    {
     "name": "stdout",
     "output_type": "stream",
     "text": [
      "[['Roy' '80']\n",
      " ['John' '75']\n",
      " ['Dave' '80']]\n"
     ]
    }
   ],
   "source": [
    "\n",
    "from numpy import *\n",
    "\n",
    "a = array([['Roy',80,75,85,90,95],\n",
    "           ['John',75,80,75,85,100],\n",
    "           ['Dave',80,80,80,90,95]])\n",
    "\n",
    "print(a[:3,[0,1]])\n",
    "\n",
    "\n"
   ]
  },
  {
   "cell_type": "code",
   "execution_count": 7,
   "metadata": {},
   "outputs": [
    {
     "name": "stdout",
     "output_type": "stream",
     "text": [
      "['Roy', 80, 75, 85, 90, 95]\n",
      "['Roy', 75, 75, 85, 90, 95]\n",
      "[['Roy', 75, 75, 85, 90, 95], ['John', 75, 80, 75, 85, 100], ['Sam', 82, 79, 88, 97, 99]]\n",
      "[['Roy', 75, 75, 85, 95, 95], ['John', 75, 80, 75, 85, 100], ['Sam', 82, 79, 88, 97, 99]]\n"
     ]
    }
   ],
   "source": [
    "\n",
    "a = [['Roy',80,75,85,90,95],\n",
    "     ['John',75,80,75,85,100],\n",
    "     ['Dave',80,80,80,90,95]]\n",
    "\n",
    "b=a[0]\n",
    "print(b)\n",
    "\n",
    "b[1]=75\n",
    "print(b)\n",
    "\n",
    "a[2]=['Sam',82,79,88,97,99]\n",
    "print(a)\n",
    "\n",
    "a[0][4]=95\n",
    "print(a)\n"
   ]
  },
  {
   "cell_type": "code",
   "execution_count": 9,
   "metadata": {},
   "outputs": [
    {
     "name": "stdout",
     "output_type": "stream",
     "text": [
      "[['Roy' '80' '75' '85' '90' '95']\n",
      " ['John' '75' '80' '75' '85' '100']\n",
      " ['Dave' '80' '80' '80' '90' '95']\n",
      " ['Sam' '82' '79' '88' '97' '99']]\n"
     ]
    }
   ],
   "source": [
    "\n",
    "\n",
    "from numpy import *\n",
    "\n",
    "a = array([['Roy',80,75,85,90,95],\n",
    "           ['John',75,80,75,85,100],\n",
    "           ['Dave',80,80,80,90,95]])\n",
    "\n",
    "a= append(a,[['Sam',82,79,88,97,99]],0)\n",
    "\n",
    "    #here 0 is axis that represents the dimensions where 0 stands for row and 1 stands for column\n",
    "\n",
    "print(a)\n"
   ]
  },
  {
   "cell_type": "code",
   "execution_count": 10,
   "metadata": {},
   "outputs": [
    {
     "name": "stdout",
     "output_type": "stream",
     "text": [
      "[['Roy' '80' '75' '85' '90' '95' '73']\n",
      " ['John' '75' '80' '75' '85' '100' '80']\n",
      " ['Dave' '80' '80' '80' '90' '95' '85']]\n"
     ]
    }
   ],
   "source": [
    "\n",
    "from numpy import * \n",
    "\n",
    "a = array([['Roy',80,75,85,90,95],\n",
    "      ['John',75,80,75,85,100],\n",
    "      ['Dave',80,80,80,90,95]]) \n",
    "\n",
    "a= insert(a,[6],[[73],[80],[85]],axis=1) \n",
    "#here axis represents the dimensions where 0 stands for row and 1 stands for column \n",
    "\n",
    "print(a) \n"
   ]
  },
  {
   "cell_type": "code",
   "execution_count": 11,
   "metadata": {},
   "outputs": [
    {
     "name": "stdout",
     "output_type": "stream",
     "text": [
      "[['Roy', 80, 75, 85, 90, 95], ['John', 75, 80, 75, 85, 100], ['Dave', 80, 80, 80, 90, 95], ['Sam', 82, 79, 88, 97, 99]]\n"
     ]
    }
   ],
   "source": [
    "\n",
    "\n",
    "a=[['Roy',80,75,85,90,95],\n",
    "    ['John',75,80,75,85,100],\n",
    "    ['Dave',80,80,80,90,95]]\n",
    "\n",
    "a= a+ [['Sam',82,79,88,97,99]]\n",
    "\n",
    "print(a)\n",
    "\n"
   ]
  },
  {
   "cell_type": "code",
   "execution_count": 12,
   "metadata": {},
   "outputs": [
    {
     "name": "stdout",
     "output_type": "stream",
     "text": [
      "[['Roy' '80' '75' '85' '90' '95']\n",
      " ['Dave' '80' '80' '80' '90' '95']]\n"
     ]
    }
   ],
   "source": [
    "\n",
    "from numpy import *\n",
    "\n",
    "a = array([['Roy',80,75,85,90,95],\n",
    "      ['John',75,80,75,85,100],\n",
    "      ['Dave',80,80,80,90,95]])\n",
    "\n",
    "a= delete(a,[1],0)\n",
    "\n",
    "print(a)\n"
   ]
  },
  {
   "cell_type": "code",
   "execution_count": 13,
   "metadata": {},
   "outputs": [
    {
     "name": "stdout",
     "output_type": "stream",
     "text": [
      "[['Roy' '75' '90']\n",
      " ['John' '80' '85']\n",
      " ['Dave' '80' '90']]\n"
     ]
    }
   ],
   "source": [
    "\n",
    "from numpy import *\n",
    "\n",
    "a = array([['Roy',80,75,85,90,95],\n",
    "      ['John',75,80,75,85,100],\n",
    "      ['Dave',80,80,80,90,95]])\n",
    "\n",
    "a= delete(a, s_[1::2], 1)\n",
    "\n",
    "print(a)\n",
    "\n"
   ]
  },
  {
   "cell_type": "code",
   "execution_count": null,
   "metadata": {},
   "outputs": [],
   "source": []
  }
 ],
 "metadata": {
  "kernelspec": {
   "display_name": "Python 3",
   "language": "python",
   "name": "python3"
  },
  "language_info": {
   "codemirror_mode": {
    "name": "ipython",
    "version": 3
   },
   "file_extension": ".py",
   "mimetype": "text/x-python",
   "name": "python",
   "nbconvert_exporter": "python",
   "pygments_lexer": "ipython3",
   "version": "3.6.5"
  }
 },
 "nbformat": 4,
 "nbformat_minor": 2
}
